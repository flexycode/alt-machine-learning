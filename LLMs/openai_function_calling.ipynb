{
 "cells": [
  {
   "cell_type": "markdown",
   "metadata": {},
   "source": [
    "The power of OpenAI function calling 🚀"
   ]
  },
  {
   "cell_type": "code",
   "execution_count": null,
   "metadata": {},
   "outputs": [],
   "source": [
    "import os\n",
    "import json\n",
    "import openai\n",
    "import requests\n",
    "from ast import literal_eval\n",
    "from IPython.display import JSON"
   ]
  },
  {
   "cell_type": "code",
   "execution_count": null,
   "metadata": {},
   "outputs": [],
   "source": [
    "# Set environment variables\n",
    "os.environ['OPENAI_API_KEY'] = '...'\n",
    "os.environ['WEATHER_API_KEY'] = '...'"
   ]
  },
  {
   "cell_type": "code",
   "execution_count": null,
   "metadata": {},
   "outputs": [],
   "source": [
    "open_ai_url = \"https://api.openai.com/v1/chat/completions\"\n",
    "model = \"gpt-3.5-turbo-0613\"\n",
    "user_message = \"What is the weather like in Delhi?\""
   ]
  },
  {
   "cell_type": "code",
   "execution_count": null,
   "metadata": {},
   "outputs": [],
   "source": [
    "# A natural language request to the OpenAI API, asking about weather in delhi\n",
    "\n",
    "headers = {\n",
    "    \"Content-Type\": \"application/json\",\n",
    "    \"Authorization\": f\"Bearer {os.getenv('OPENAI_API_KEY')}\",\n",
    "}\n",
    "\n",
    "data = {\n",
    "   \"model\": model,\n",
    "   \"messages\":[\n",
    "      {\n",
    "         \"role\":\"user\",\n",
    "         \"content\": user_message\n",
    "      }\n",
    "   ],\n",
    "   \"functions\":[\n",
    "      {\n",
    "         \"name\":\"get_current_weather\",\n",
    "         \"description\":\"Get the current weather in a given location\",\n",
    "         \"parameters\":{\n",
    "            \"type\":\"object\",\n",
    "            \"properties\":{\n",
    "               \"location\":{\n",
    "                  \"type\":\"string\",\n",
    "                  \"description\":\"The city and state, e.g. San Francisco, CA\"\n",
    "               },\n",
    "               \"unit\":{\n",
    "                  \"type\":\"string\",\n",
    "                  \"enum\":[\n",
    "                     \"celsius\",\n",
    "                     \"fahrenheit\"\n",
    "                  ]\n",
    "               }\n",
    "            },\n",
    "            \"required\":[\n",
    "               \"location\"\n",
    "            ]\n",
    "         }\n",
    "      }\n",
    "   ]\n",
    "}\n",
    "\n",
    "response = requests.post(open_ai_url, headers=headers, data=json.dumps(data)).json()\n",
    "\n",
    "JSON(response)"
   ]
  },
  {
   "cell_type": "code",
   "execution_count": null,
   "metadata": {},
   "outputs": [],
   "source": [
    "# Based on the response above we extract the necessary information required to call Weather API\n",
    "arguments = response['choices'][0]['message']['function_call']['arguments']\n",
    "city = literal_eval(arguments)['location']\n",
    "\n",
    "base_url = f\"http://api.openweathermap.org/data/2.5/weather?q={city}&appid={os.getenv('WEATHER_API_KEY')}\"\n",
    "\n",
    "weather_api_response = requests.get(base_url)\n",
    "weather_api_response = weather_api_response.json()\n",
    "\n",
    "JSON(weather_api_response)"
   ]
  },
  {
   "cell_type": "code",
   "execution_count": null,
   "metadata": {},
   "outputs": [],
   "source": [
    "# Converting the weather API response back to Natural Language\n",
    "\n",
    "headers = {\n",
    "    \"Content-Type\": \"application/json\",\n",
    "    \"Authorization\": f\"Bearer {os.getenv('OPENAI_API_KEY')}\",\n",
    "}\n",
    "\n",
    "data = {\n",
    "  \"model\": model,\n",
    "  \"messages\": [\n",
    "    {\"role\": \"user\", \"content\": user_message},\n",
    "    {\"role\": \"assistant\", \"content\": None, \"function_call\": {\"name\": \"get_current_weather\", \"arguments\": arguments}},\n",
    "    {\"role\": \"function\", \"name\": \"get_current_weather\", \"content\": str(weather_api_response)}\n",
    "  ],\n",
    "  \"functions\": [\n",
    "    {\n",
    "      \"name\": \"get_current_weather\",\n",
    "      \"description\": \"Get the current weather in a given location\",\n",
    "      \"parameters\": {\n",
    "        \"type\": \"object\",\n",
    "        \"properties\": {\n",
    "          \"location\": {\n",
    "            \"type\": \"string\",\n",
    "            \"description\": \"The city and state, e.g. San Francisco, CA\"\n",
    "          },\n",
    "          \"unit\": {\n",
    "            \"type\": \"string\",\n",
    "            \"enum\": [\"celsius\", \"fahrenheit\"]\n",
    "          }\n",
    "        },\n",
    "        \"required\": [\"location\"]\n",
    "      }\n",
    "    }\n",
    "  ]\n",
    "}\n",
    "\n",
    "response = requests.post(open_ai_url, headers=headers, data=json.dumps(data))\n",
    "\n",
    "print(response.json())"
   ]
  },
  {
   "cell_type": "code",
   "execution_count": null,
   "metadata": {},
   "outputs": [],
   "source": [
    "response.json()['choices'][0]['message']['content']"
   ]
  }
 ],
 "metadata": {
  "language_info": {
   "name": "python"
  }
 },
 "nbformat": 4,
 "nbformat_minor": 2
}
